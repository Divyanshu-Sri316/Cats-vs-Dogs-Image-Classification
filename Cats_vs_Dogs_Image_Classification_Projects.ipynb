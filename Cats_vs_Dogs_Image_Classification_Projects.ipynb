{
 "cells": [
  {
   "cell_type": "code",
   "execution_count": 38,
   "id": "fb902dd9",
   "metadata": {},
   "outputs": [],
   "source": [
    "import numpy as np\n",
    "import matplotlib.pyplot as plt\n",
    "import pandas as pd\n",
    "import seaborn as sns\n",
    "%matplotlib inline\n",
    "plt.rcParams['figure.figsize'] = [8,6]"
   ]
  },
  {
   "cell_type": "markdown",
   "id": "7d9e760a",
   "metadata": {},
   "source": [
    "### Building the CNN"
   ]
  },
  {
   "cell_type": "code",
   "execution_count": 2,
   "id": "904e2369",
   "metadata": {
    "scrolled": true
   },
   "outputs": [
    {
     "data": {
      "text/plain": [
       "'2.10.0'"
      ]
     },
     "execution_count": 2,
     "metadata": {},
     "output_type": "execute_result"
    }
   ],
   "source": [
    "import tensorflow as tf\n",
    "tf.__version__"
   ]
  },
  {
   "cell_type": "code",
   "execution_count": 3,
   "id": "a4d93cf7",
   "metadata": {},
   "outputs": [
    {
     "name": "stdout",
     "output_type": "stream",
     "text": [
      "Num GPUs Available:  1\n"
     ]
    }
   ],
   "source": [
    "# Detecting whether keras API using GPU\n",
    "print(\"Num GPUs Available: \", len(tf.config.list_physical_devices('GPU')))"
   ]
  },
  {
   "cell_type": "markdown",
   "id": "daf27f0f",
   "metadata": {},
   "source": [
    "### Initializing the CNN"
   ]
  },
  {
   "cell_type": "code",
   "execution_count": 30,
   "id": "3e1a581e",
   "metadata": {},
   "outputs": [],
   "source": [
    "# We generally start with 32 feature detectors/filters since some use CPUs\n",
    "model = tf.keras.Sequential([tf.keras.layers.Conv2D(filters=32, kernel_size= (3,3), kernel_initializer=tf.keras.initializers.he_uniform, input_shape = (64,64,3), activation = tf.keras.activations.relu, padding = 'same'),\n",
    "                             tf.keras.layers.MaxPool2D(pool_size=(2, 2), strides = 2),\n",
    "                             tf.keras.layers.Conv2D(filters=64, kernel_size= (3,3), kernel_initializer=tf.keras.initializers.he_uniform, activation = tf.keras.activations.relu, padding = 'same'),\n",
    "                             tf.keras.layers.MaxPool2D(pool_size=(2, 2), strides = 2),\n",
    "                             tf.keras.layers.Conv2D(filters=128, kernel_size= (3,3), kernel_initializer=tf.keras.initializers.he_uniform, activation = tf.keras.activations.relu, padding = 'same'),\n",
    "                             tf.keras.layers.MaxPool2D(pool_size=(2, 2), strides = 2),\n",
    "                             tf.keras.layers.Flatten(),\n",
    "                             tf.keras.layers.Dense(units = 128,kernel_initializer=tf.keras.initializers.he_uniform, activation = tf.keras.activations.relu),\n",
    "                             tf.keras.layers.Dense(units = 1, activation = tf.keras.activations.sigmoid)])"
   ]
  },
  {
   "cell_type": "code",
   "execution_count": 100,
   "id": "c10f999a",
   "metadata": {},
   "outputs": [],
   "source": [
    "'''# We generally start with 32 feature detectors/filters since some use CPUs\n",
    "model = tf.keras.Sequential([tf.keras.layers.Conv2D(filters=32, kernel_size= (3,3), kernel_initializer= 'uniform', input_shape = (64,64,3), activation = 'relu', padding = 'same'),\n",
    "                             tf.keras.layers.MaxPool2D(pool_size=(2, 2), strides = 2),\n",
    "                             tf.keras.layers.Conv2D(filters=64, kernel_size= (3,3), kernel_initializer= 'uniform', activation = 'relu', padding = 'same'),\n",
    "                             tf.keras.layers.MaxPool2D(pool_size=(2, 2), strides = 2),\n",
    "                             tf.keras.layers.Conv2D(filters=128, kernel_size= (3,3), kernel_initializer= 'uniform', activation = 'relu', padding = 'same'),\n",
    "                             tf.keras.layers.MaxPool2D(pool_size=(2, 2), strides = 2),\n",
    "                             tf.keras.layers.Flatten(),\n",
    "                             tf.keras.layers.Dense(units = 128,kernel_initializer= 'uniform', activation = 'relu'),\n",
    "                             tf.keras.layers.Dense(units = 1, activation = 'softmax')])'''"
   ]
  },
  {
   "cell_type": "code",
   "execution_count": 4,
   "id": "865a42b5",
   "metadata": {},
   "outputs": [],
   "source": [
    "'''model = tf.keras.Sequential([tf.keras.layers.Flatten(input_shape = (64,64,3)),\n",
    "                             tf.keras.layers.Dense(units = 128,kernel_initializer=tf.keras.initializers.he_uniform, activation = tf.keras.activations.relu),\n",
    "                             tf.keras.layers.Dense(units = 1)])'''"
   ]
  },
  {
   "cell_type": "code",
   "execution_count": 31,
   "id": "94101adf",
   "metadata": {},
   "outputs": [],
   "source": [
    "# Compiling the CNN\n",
    "model.compile(optimizer = tf.keras.optimizers.SGD(learning_rate = 0.01, momentum = 0.9), loss = tf.keras.losses.BinaryCrossentropy(from_logits=False), metrics = ['accuracy'])"
   ]
  },
  {
   "cell_type": "code",
   "execution_count": 32,
   "id": "c280e673",
   "metadata": {},
   "outputs": [
    {
     "name": "stdout",
     "output_type": "stream",
     "text": [
      "Found 8000 images belonging to 2 classes.\n",
      "Found 2000 images belonging to 2 classes.\n",
      "Epoch 1/25\n",
      "250/250 [==============================] - 29s 113ms/step - loss: 0.6661 - accuracy: 0.5930 - val_loss: 0.6116 - val_accuracy: 0.6784\n",
      "Epoch 2/25\n",
      "250/250 [==============================] - 31s 123ms/step - loss: 0.5925 - accuracy: 0.6815 - val_loss: 0.5667 - val_accuracy: 0.7152\n",
      "Epoch 3/25\n",
      "250/250 [==============================] - 30s 118ms/step - loss: 0.5607 - accuracy: 0.7120 - val_loss: 0.5372 - val_accuracy: 0.7253\n",
      "Epoch 4/25\n",
      "250/250 [==============================] - 30s 118ms/step - loss: 0.5269 - accuracy: 0.7389 - val_loss: 0.4812 - val_accuracy: 0.7732\n",
      "Epoch 5/25\n",
      "250/250 [==============================] - 30s 120ms/step - loss: 0.4975 - accuracy: 0.7546 - val_loss: 0.4732 - val_accuracy: 0.7792\n",
      "Epoch 6/25\n",
      "250/250 [==============================] - 30s 120ms/step - loss: 0.4733 - accuracy: 0.7734 - val_loss: 0.4947 - val_accuracy: 0.7626\n",
      "Epoch 7/25\n",
      "250/250 [==============================] - 28s 112ms/step - loss: 0.4608 - accuracy: 0.7826 - val_loss: 0.4984 - val_accuracy: 0.7450\n",
      "Epoch 8/25\n",
      "250/250 [==============================] - 28s 111ms/step - loss: 0.4519 - accuracy: 0.7880 - val_loss: 0.4848 - val_accuracy: 0.7702\n",
      "Epoch 9/25\n",
      "250/250 [==============================] - 29s 114ms/step - loss: 0.4255 - accuracy: 0.7975 - val_loss: 0.4695 - val_accuracy: 0.7893\n",
      "Epoch 10/25\n",
      "250/250 [==============================] - 27s 110ms/step - loss: 0.4149 - accuracy: 0.8120 - val_loss: 0.5911 - val_accuracy: 0.7359\n",
      "Epoch 11/25\n",
      "250/250 [==============================] - 28s 112ms/step - loss: 0.4091 - accuracy: 0.8127 - val_loss: 0.4258 - val_accuracy: 0.8170\n",
      "Epoch 12/25\n",
      "250/250 [==============================] - 28s 110ms/step - loss: 0.3948 - accuracy: 0.8167 - val_loss: 0.4583 - val_accuracy: 0.7868\n",
      "Epoch 13/25\n",
      "250/250 [==============================] - 30s 119ms/step - loss: 0.3821 - accuracy: 0.8254 - val_loss: 0.4289 - val_accuracy: 0.8150\n",
      "Epoch 14/25\n",
      "250/250 [==============================] - 28s 111ms/step - loss: 0.3570 - accuracy: 0.8401 - val_loss: 0.3943 - val_accuracy: 0.8201\n",
      "Epoch 15/25\n",
      "250/250 [==============================] - 28s 112ms/step - loss: 0.3505 - accuracy: 0.8406 - val_loss: 0.4602 - val_accuracy: 0.8070\n",
      "Epoch 16/25\n",
      "250/250 [==============================] - 28s 111ms/step - loss: 0.3388 - accuracy: 0.8522 - val_loss: 0.4352 - val_accuracy: 0.7989\n",
      "Epoch 17/25\n",
      "250/250 [==============================] - 28s 113ms/step - loss: 0.3253 - accuracy: 0.8554 - val_loss: 0.4502 - val_accuracy: 0.7918\n",
      "Epoch 18/25\n",
      "250/250 [==============================] - 29s 115ms/step - loss: 0.3098 - accuracy: 0.8645 - val_loss: 0.4262 - val_accuracy: 0.8306\n",
      "Epoch 19/25\n",
      "250/250 [==============================] - 28s 114ms/step - loss: 0.3050 - accuracy: 0.8650 - val_loss: 0.4091 - val_accuracy: 0.8201\n",
      "Epoch 20/25\n",
      "250/250 [==============================] - 28s 113ms/step - loss: 0.2777 - accuracy: 0.8809 - val_loss: 0.4299 - val_accuracy: 0.8231\n",
      "Epoch 21/25\n",
      "250/250 [==============================] - 29s 115ms/step - loss: 0.2802 - accuracy: 0.8773 - val_loss: 0.4503 - val_accuracy: 0.8059\n",
      "Epoch 22/25\n",
      "250/250 [==============================] - 28s 112ms/step - loss: 0.2682 - accuracy: 0.8855 - val_loss: 0.4301 - val_accuracy: 0.8352\n",
      "Epoch 23/25\n",
      "250/250 [==============================] - 29s 114ms/step - loss: 0.2485 - accuracy: 0.8944 - val_loss: 0.4070 - val_accuracy: 0.8427\n",
      "Epoch 24/25\n",
      "250/250 [==============================] - 28s 111ms/step - loss: 0.2402 - accuracy: 0.9019 - val_loss: 0.4622 - val_accuracy: 0.8357\n",
      "Epoch 25/25\n",
      "250/250 [==============================] - 28s 112ms/step - loss: 0.2352 - accuracy: 0.9024 - val_loss: 0.4620 - val_accuracy: 0.8251\n"
     ]
    }
   ],
   "source": [
    "from keras.preprocessing.image import ImageDataGenerator\n",
    "train_datagen = ImageDataGenerator(\n",
    "        rescale=1./255,\n",
    "        shear_range=0.2,\n",
    "        zoom_range=0.2,\n",
    "        horizontal_flip=True)\n",
    "\n",
    "test_datagen = ImageDataGenerator(rescale=1./255)\n",
    "\n",
    "train_generator = train_datagen.flow_from_directory(\n",
    "        r'D:\\Anaconda Projects\\Datasets\\Deep_Learning_A_Z\\Volume 1 - Supervised Deep Learning\\Part 2 - Convolutional Neural Networks (CNN)\\Section 8 - Building a CNN\\Part 2 - Convolutional Neural Networks\\dataset\\training_set',\n",
    "        target_size=(64, 64),\n",
    "        batch_size=32,\n",
    "        class_mode='binary')\n",
    "\n",
    "validation_generator = test_datagen.flow_from_directory(\n",
    "        r'D:\\Anaconda Projects\\Datasets\\Deep_Learning_A_Z\\Volume 1 - Supervised Deep Learning\\Part 2 - Convolutional Neural Networks (CNN)\\Section 8 - Building a CNN\\Part 2 - Convolutional Neural Networks\\dataset\\test_set',\n",
    "        target_size=(64, 64),\n",
    "        batch_size=32,\n",
    "        class_mode='binary')\n",
    "\n",
    "history = model.fit(\n",
    "        train_generator,\n",
    "        steps_per_epoch=250,\n",
    "        epochs=25,\n",
    "        validation_data=validation_generator,\n",
    "        validation_steps=62)"
   ]
  },
  {
   "cell_type": "code",
   "execution_count": 33,
   "id": "03eb5165",
   "metadata": {},
   "outputs": [
    {
     "data": {
      "text/plain": [
       "(250, 62)"
      ]
     },
     "execution_count": 33,
     "metadata": {},
     "output_type": "execute_result"
    }
   ],
   "source": [
    "# Important Step\n",
    "# To make sure that you have \"at least steps_per_epoch * epochs batches\"\n",
    "steps_per_epoch = 8000//32 # Atleast len(X_train)//batch_size\n",
    "validation_steps = 2000//32 # Atleast len(X_test)//batch_size\n",
    "steps_per_epoch,validation_steps"
   ]
  },
  {
   "cell_type": "code",
   "execution_count": 34,
   "id": "34d167f6",
   "metadata": {},
   "outputs": [
    {
     "name": "stdout",
     "output_type": "stream",
     "text": [
      "1/1 [==============================] - 0s 259ms/step\n",
      "[[ True]]\n"
     ]
    }
   ],
   "source": [
    "test_image = tf.keras.utils.load_img(r'D:\\Anaconda Projects\\Datasets\\Deep_Learning_A_Z\\Volume 1 - Supervised Deep Learning\\Part 2 - Convolutional Neural Networks (CNN)\\Section 8 - Building a CNN\\Part 2 - Convolutional Neural Networks\\dataset\\single_prediction\\cat_or_dog_1.jpg', target_size = (64,64))\n",
    "test_image = tf.keras.utils.img_to_array(test_image)\n",
    "test_image = np.expand_dims(test_image, axis = 0)\n",
    "print(model.predict(test_image)>0.5) # Its a dog!!"
   ]
  },
  {
   "cell_type": "code",
   "execution_count": 35,
   "id": "524b0fd7",
   "metadata": {},
   "outputs": [
    {
     "name": "stdout",
     "output_type": "stream",
     "text": [
      "1/1 [==============================] - 0s 16ms/step\n",
      "[[False]]\n"
     ]
    }
   ],
   "source": [
    "test_image1 = tf.keras.utils.load_img(r'D:\\Anaconda Projects\\Datasets\\Deep_Learning_A_Z\\Volume 1 - Supervised Deep Learning\\Part 2 - Convolutional Neural Networks (CNN)\\Section 8 - Building a CNN\\Part 2 - Convolutional Neural Networks\\dataset\\single_prediction\\cat_or_dog_2.jpg', target_size = (64,64))\n",
    "test_image1 = tf.keras.utils.img_to_array(test_image1)\n",
    "test_image1 = np.expand_dims(test_image1, axis = 0)\n",
    "print(model.predict(test_image1)>0.5) # Its a cat!!"
   ]
  },
  {
   "cell_type": "code",
   "execution_count": 36,
   "id": "6c23213a",
   "metadata": {},
   "outputs": [
    {
     "data": {
      "text/plain": [
       "dict_keys(['loss', 'accuracy', 'val_loss', 'val_accuracy'])"
      ]
     },
     "execution_count": 36,
     "metadata": {},
     "output_type": "execute_result"
    }
   ],
   "source": [
    "history.history.keys()"
   ]
  },
  {
   "cell_type": "code",
   "execution_count": 39,
   "id": "8d8a4b50",
   "metadata": {},
   "outputs": [
    {
     "data": {
      "text/plain": [
       "<matplotlib.legend.Legend at 0x25ed1592100>"
      ]
     },
     "execution_count": 39,
     "metadata": {},
     "output_type": "execute_result"
    },
    {
     "data": {
      "image/png": "[encoded data removed]",
      "text/plain": [
       "<Figure size 800x600 with 1 Axes>"
      ]
     },
     "metadata": {},
     "output_type": "display_data"
    }
   ],
   "source": [
    "plt.plot(history.history[\"loss\"])\n",
    "plt.plot(history.history[\"val_loss\"])\n",
    "plt.title('Model Loss During Training or Validation')\n",
    "plt.ylabel('Training & Validation Losses')\n",
    "plt.xlabel('Epoch')\n",
    "plt.legend(['Training Loss', 'Validation Loss'])"
   ]
  },
  {
   "cell_type": "code",
   "execution_count": null,
   "id": "84b3f157",
   "metadata": {},
   "outputs": [],
   "source": []
  },
  {
   "cell_type": "code",
   "execution_count": null,
   "id": "5b6151c8",
   "metadata": {},
   "outputs": [],
   "source": []
  },
  {
   "cell_type": "code",
   "execution_count": null,
   "id": "1d86c492",
   "metadata": {},
   "outputs": [],
   "source": []
  },
  {
   "cell_type": "code",
   "execution_count": null,
   "id": "86059763",
   "metadata": {},
   "outputs": [],
   "source": []
  }
 ],
 "metadata": {
  "kernelspec": {
   "display_name": "Python 3 (ipykernel)",
   "language": "python",
   "name": "python3"
  },
  "language_info": {
   "codemirror_mode": {
    "name": "ipython",
    "version": 3
   },
   "file_extension": ".py",
   "mimetype": "text/x-python",
   "name": "python",
   "nbconvert_exporter": "python",
   "pygments_lexer": "ipython3",
   "version": "3.9.12"
  }
 },
 "nbformat": 4,
 "nbformat_minor": 5
}
